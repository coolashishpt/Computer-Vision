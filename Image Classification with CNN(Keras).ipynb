{
 "cells": [
  {
   "cell_type": "code",
   "execution_count": 10,
   "metadata": {},
   "outputs": [
    {
     "data": {
      "text/plain": [
       "['circle', 'square', 'triangle']"
      ]
     },
     "execution_count": 10,
     "metadata": {},
     "output_type": "execute_result"
    }
   ],
   "source": [
    "import os\n",
    "import keras\n",
    "import numpy as np\n",
    "training_folder_name = 'data/shapes/training'\n",
    "classes = os.listdir(training_folder_name)\n",
    "classes"
   ]
  },
  {
   "cell_type": "code",
   "execution_count": 11,
   "metadata": {},
   "outputs": [
    {
     "name": "stdout",
     "output_type": "stream",
     "text": [
      "Found 840 images belonging to 3 classes.\n",
      "Found 360 images belonging to 3 classes.\n"
     ]
    }
   ],
   "source": [
    "from keras.preprocessing.image import ImageDataGenerator\n",
    "\n",
    "datagen = ImageDataGenerator(rescale=1./255, validation_split=0.3)\n",
    "\n",
    "img_size = (128,128)\n",
    "batch_size = 30\n",
    "\n",
    "train_generator = datagen.flow_from_directory(training_folder_name,\n",
    "                                              target_size=img_size,\n",
    "                                              batch_size=batch_size,class_mode=\"categorical\",subset=\"training\" )\n",
    "\n",
    "validation_generator = datagen.flow_from_directory(training_folder_name,\n",
    "                                              target_size=img_size,\n",
    "                                              batch_size=batch_size,class_mode=\"categorical\",subset=\"validation\" )"
   ]
  },
  {
   "cell_type": "code",
   "execution_count": 32,
   "metadata": {},
   "outputs": [
    {
     "name": "stdout",
     "output_type": "stream",
     "text": [
      "Image Shape : (128, 128, 3)\n",
      "Number of Classses : 3\n",
      "Train Sample : 840\n",
      "Validation Sample : 360\n"
     ]
    }
   ],
   "source": [
    "print(\"Image Shape :\",train_generator.image_shape)\n",
    "print(\"Number of Classses :\",train_generator.num_classes)\n",
    "print(\"Train Sample :\", train_generator.samples)\n",
    "print(\"Validation Sample :\", validation_generator.samples)"
   ]
  },
  {
   "cell_type": "code",
   "execution_count": 33,
   "metadata": {},
   "outputs": [
    {
     "name": "stdout",
     "output_type": "stream",
     "text": [
      "Model: \"sequential_6\"\n",
      "_________________________________________________________________\n",
      "Layer (type)                 Output Shape              Param #   \n",
      "=================================================================\n",
      "conv2d_7 (Conv2D)            (None, 123, 123, 32)      3488      \n",
      "_________________________________________________________________\n",
      "max_pooling2d_7 (MaxPooling2 (None, 61, 61, 32)        0         \n",
      "_________________________________________________________________\n",
      "conv2d_8 (Conv2D)            (None, 56, 56, 32)        36896     \n",
      "_________________________________________________________________\n",
      "max_pooling2d_8 (MaxPooling2 (None, 28, 28, 32)        0         \n",
      "_________________________________________________________________\n",
      "flatten_3 (Flatten)          (None, 25088)             0         \n",
      "_________________________________________________________________\n",
      "dense_3 (Dense)              (None, 3)                 75267     \n",
      "=================================================================\n",
      "Total params: 115,651\n",
      "Trainable params: 115,651\n",
      "Non-trainable params: 0\n",
      "_________________________________________________________________\n",
      "None\n"
     ]
    }
   ],
   "source": [
    "from keras.models import Sequential\n",
    "from keras.layers import Conv2D, MaxPooling2D, Activation, Flatten, Dense\n",
    "from keras.optimizers import Adam\n",
    "\n",
    "filter_size = (6,6) # also called as kernal size\n",
    "# 32 is number of unit in first convolution layer\n",
    "input_shape = train_generator.image_shape # (128 x 128 x 3)\n",
    "no_classes = train_generator.num_classes # which is 3(circle, square, triangle)\n",
    "activation_1, activation_2 = \"relu\", \"softmax\" #Using Rectified Linear Unit and Softmax for this model\n",
    "\n",
    "\n",
    "# Model Creatation\n",
    "model = Sequential()\n",
    "\n",
    "model.add(Conv2D(32, (6,6), input_shape=input_shape, activation=activation_1 ))\n",
    "\n",
    "model.add(MaxPooling2D(pool_size=(2,2)))\n",
    "\n",
    "model.add(Conv2D(32, (6,6), activation= activation_1))\n",
    "\n",
    "model.add(MaxPooling2D(pool_size=(2,2)))\n",
    "\n",
    "model.add(Flatten())\n",
    "model.add(Dense(no_classes, activation=activation_2))\n",
    "\n",
    "opt = Adam(lr=0.001)\n",
    "\n",
    "model.compile(optimizer=opt, loss=\"categorical_crossentropy\", metrics=[\"accuracy\"])\n",
    "          \n",
    "print(model.summary())"
   ]
  },
  {
   "cell_type": "code",
   "execution_count": 35,
   "metadata": {},
   "outputs": [],
   "source": [
    "# Model Training\n",
    "\n",
    "num_epochs = 10\n",
    "history = model.fit_generator(train_generator, \n",
    "                              steps_per_epoch= train_generator.samples // batch_size, \n",
    "                              validation_data = validation_generator,\n",
    "                              validation_steps = validation_generator.samples// batch_size, \n",
    "                              epochs = num_epochs)"
   ]
  },
  {
   "cell_type": "code",
   "execution_count": null,
   "metadata": {},
   "outputs": [],
   "source": []
  },
  {
   "cell_type": "code",
   "execution_count": null,
   "metadata": {},
   "outputs": [],
   "source": []
  }
 ],
 "metadata": {
  "kernelspec": {
   "display_name": "Python 3",
   "language": "python",
   "name": "python3"
  },
  "language_info": {
   "codemirror_mode": {
    "name": "ipython",
    "version": 3
   },
   "file_extension": ".py",
   "mimetype": "text/x-python",
   "name": "python",
   "nbconvert_exporter": "python",
   "pygments_lexer": "ipython3",
   "version": "3.6.8"
  }
 },
 "nbformat": 4,
 "nbformat_minor": 4
}
