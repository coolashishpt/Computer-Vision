{
 "cells": [
  {
   "cell_type": "code",
   "execution_count": 1,
   "metadata": {},
   "outputs": [
    {
     "name": "stderr",
     "output_type": "stream",
     "text": [
      "Using TensorFlow backend.\n"
     ]
    },
    {
     "data": {
      "text/plain": [
       "['circle', 'square', 'triangle']"
      ]
     },
     "execution_count": 1,
     "metadata": {},
     "output_type": "execute_result"
    }
   ],
   "source": [
    "import os\n",
    "import keras\n",
    "import numpy as np\n",
    "training_folder_name = 'data/shapes/training'\n",
    "classes = os.listdir(training_folder_name)\n",
    "classes"
   ]
  },
  {
   "cell_type": "code",
   "execution_count": 6,
   "metadata": {},
   "outputs": [
    {
     "name": "stdout",
     "output_type": "stream",
     "text": [
      "Found 840 images belonging to 3 classes.\n",
      "Found 360 images belonging to 3 classes.\n"
     ]
    }
   ],
   "source": [
    "from keras.preprocessing.image import ImageDataGenerator\n",
    "\n",
    "datagen = ImageDataGenerator(rescale=1./255, validation_split=0.3)\n",
    "\n",
    "img_size = (128,128)\n",
    "batch_size = 30\n",
    "\n",
    "train_generator = datagen.flow_from_directory(training_folder_name,\n",
    "                                              target_size=img_size,\n",
    "                                              batch_size=batch_size,class_mode=\"categorical\",subset=\"training\" )\n",
    "\n",
    "validation_generator = datagen.flow_from_directory(training_folder_name,\n",
    "                                              target_size=img_size,\n",
    "                                              batch_size=batch_size,class_mode=\"categorical\",subset=\"validation\" )"
   ]
  },
  {
   "cell_type": "code",
   "execution_count": 7,
   "metadata": {},
   "outputs": [
    {
     "name": "stdout",
     "output_type": "stream",
     "text": [
      "Image Shape : (128, 128, 3)\n",
      "Number of Classses : 3\n",
      "Train Sample : 840\n",
      "Validation Sample : 360\n"
     ]
    }
   ],
   "source": [
    "print(\"Image Shape :\",train_generator.image_shape)\n",
    "print(\"Number of Classses :\",train_generator.num_classes)\n",
    "print(\"Train Sample :\", train_generator.samples)\n",
    "print(\"Validation Sample :\", validation_generator.samples)"
   ]
  },
  {
   "cell_type": "code",
   "execution_count": 8,
   "metadata": {},
   "outputs": [
    {
     "name": "stdout",
     "output_type": "stream",
     "text": [
      "Model: \"sequential_2\"\n",
      "_________________________________________________________________\n",
      "Layer (type)                 Output Shape              Param #   \n",
      "=================================================================\n",
      "conv2d_3 (Conv2D)            (None, 123, 123, 32)      3488      \n",
      "_________________________________________________________________\n",
      "max_pooling2d_3 (MaxPooling2 (None, 61, 61, 32)        0         \n",
      "_________________________________________________________________\n",
      "conv2d_4 (Conv2D)            (None, 56, 56, 32)        36896     \n",
      "_________________________________________________________________\n",
      "max_pooling2d_4 (MaxPooling2 (None, 28, 28, 32)        0         \n",
      "_________________________________________________________________\n",
      "flatten_2 (Flatten)          (None, 25088)             0         \n",
      "_________________________________________________________________\n",
      "dense_2 (Dense)              (None, 3)                 75267     \n",
      "=================================================================\n",
      "Total params: 115,651\n",
      "Trainable params: 115,651\n",
      "Non-trainable params: 0\n",
      "_________________________________________________________________\n",
      "None\n"
     ]
    }
   ],
   "source": [
    "from keras.models import Sequential\n",
    "from keras.layers import Conv2D, MaxPooling2D, Activation, Flatten, Dense\n",
    "from keras.optimizers import Adam\n",
    "\n",
    "filter_size = (6,6) # also called as kernal size\n",
    "# 32 is number of unit in first convolution layer\n",
    "input_shape = train_generator.image_shape # (128 x 128 x 3)\n",
    "no_classes = train_generator.num_classes # which is 3(circle, square, triangle)\n",
    "activation_1, activation_2 = \"relu\", \"softmax\" #Using Rectified Linear Unit and Softmax for this model\n",
    "\n",
    "\n",
    "# Model Creatation\n",
    "model = Sequential()\n",
    "\n",
    "model.add(Conv2D(32, (6,6), input_shape=input_shape, activation=activation_1 ))\n",
    "\n",
    "model.add(MaxPooling2D(pool_size=(2,2)))\n",
    "\n",
    "model.add(Conv2D(32, (6,6), activation= activation_1))\n",
    "\n",
    "model.add(MaxPooling2D(pool_size=(2,2)))\n",
    "\n",
    "model.add(Flatten())\n",
    "model.add(Dense(no_classes, activation=activation_2))\n",
    "\n",
    "opt = Adam(lr=0.001)\n",
    "\n",
    "model.compile(optimizer=opt, loss=\"categorical_crossentropy\", metrics=[\"accuracy\"])\n",
    "          \n",
    "print(model.summary())"
   ]
  },
  {
   "cell_type": "code",
   "execution_count": 9,
   "metadata": {},
   "outputs": [
    {
     "name": "stdout",
     "output_type": "stream",
     "text": [
      "Epoch 1/8\n",
      "28/28 [==============================] - 5s 167ms/step - loss: 0.8389 - accuracy: 0.6643 - val_loss: 0.4016 - val_accuracy: 0.8194\n",
      "Epoch 2/8\n",
      "28/28 [==============================] - 4s 156ms/step - loss: 0.2693 - accuracy: 0.9024 - val_loss: 0.0981 - val_accuracy: 0.9611\n",
      "Epoch 3/8\n",
      "28/28 [==============================] - 4s 156ms/step - loss: 0.0849 - accuracy: 0.9893 - val_loss: 0.0301 - val_accuracy: 1.0000\n",
      "Epoch 4/8\n",
      "28/28 [==============================] - 4s 157ms/step - loss: 0.0262 - accuracy: 0.9988 - val_loss: 0.0116 - val_accuracy: 1.0000\n",
      "Epoch 5/8\n",
      "28/28 [==============================] - 4s 157ms/step - loss: 0.0092 - accuracy: 1.0000 - val_loss: 0.0074 - val_accuracy: 1.0000\n",
      "Epoch 6/8\n",
      "28/28 [==============================] - 4s 157ms/step - loss: 0.0044 - accuracy: 1.0000 - val_loss: 0.0079 - val_accuracy: 1.0000\n",
      "Epoch 7/8\n",
      "28/28 [==============================] - 4s 157ms/step - loss: 0.0028 - accuracy: 1.0000 - val_loss: 0.0026 - val_accuracy: 1.0000\n",
      "Epoch 8/8\n",
      "28/28 [==============================] - 4s 157ms/step - loss: 0.0021 - accuracy: 1.0000 - val_loss: 0.0031 - val_accuracy: 1.0000\n"
     ]
    }
   ],
   "source": [
    "# Model Training\n",
    "\n",
    "num_epochs = 8\n",
    "history = model.fit_generator(train_generator, \n",
    "                              steps_per_epoch= train_generator.samples // batch_size, \n",
    "                              validation_data = validation_generator,\n",
    "                              validation_steps = validation_generator.samples// batch_size, \n",
    "                              epochs = num_epochs)"
   ]
  },
  {
   "cell_type": "code",
   "execution_count": 10,
   "metadata": {},
   "outputs": [],
   "source": [
    "from keras.models import load_model\n",
    "\n",
    "modelFileName = 'shape-classifier.h5'\n",
    "\n",
    "model.save(modelFileName)"
   ]
  },
  {
   "cell_type": "code",
   "execution_count": 11,
   "metadata": {},
   "outputs": [
    {
     "data": {
      "image/png": "[encoded data removed]",
      "text/plain": [
       "<Figure size 432x288 with 1 Axes>"
      ]
     },
     "metadata": {
      "needs_background": "light"
     },
     "output_type": "display_data"
    }
   ],
   "source": [
    "%matplotlib inline\n",
    "from matplotlib import pyplot as plt\n",
    "\n",
    "epoch_nums = range(1,num_epochs+1)\n",
    "training_loss = history.history[\"loss\"]\n",
    "validation_loss = history.history[\"val_loss\"]\n",
    "plt.plot(epoch_nums, training_loss)\n",
    "plt.plot(epoch_nums, validation_loss)\n",
    "plt.xlabel('epoch')\n",
    "plt.ylabel('loss')\n",
    "plt.legend(['training', 'validation'], loc='upper right')\n",
    "plt.show()"
   ]
  },
  {
   "cell_type": "code",
   "execution_count": 12,
   "metadata": {},
   "outputs": [
    {
     "name": "stdout",
     "output_type": "stream",
     "text": [
      "Generating predictions from validation data...\n"
     ]
    },
    {
     "data": {
      "image/png": "[encoded data removed]",
      "text/plain": [
       "<Figure size 432x288 with 2 Axes>"
      ]
     },
     "metadata": {
      "needs_background": "light"
     },
     "output_type": "display_data"
    }
   ],
   "source": [
    "import numpy as np\n",
    "from sklearn.metrics import confusion_matrix\n",
    "import matplotlib.pyplot as plt\n",
    "%matplotlib inline\n",
    "\n",
    "print(\"Generating predictions from validation data...\")\n",
    "# Get the image and label arrays for the first batch of validation data\n",
    "x_test = validation_generator[0][0]\n",
    "y_test = validation_generator[0][1]\n",
    "\n",
    "# Use the moedl to predict the class\n",
    "class_probabilities = model.predict(x_test)\n",
    "\n",
    "# The model returns a probability value for each class\n",
    "# The one with the highest probability is the predicted class\n",
    "predictions = np.argmax(class_probabilities, axis=1)\n",
    "\n",
    "# The actual labels are hot encoded (e.g. [0 1 0], so get the one with the value 1\n",
    "true_labels = np.argmax(y_test, axis=1)\n",
    "\n",
    "# Plot the confusion matrix\n",
    "cm = confusion_matrix(true_labels, predictions)\n",
    "plt.imshow(cm, interpolation=\"nearest\", cmap=plt.cm.Blues)\n",
    "plt.colorbar()\n",
    "tick_marks = np.arange(len(classes))\n",
    "plt.xticks(tick_marks, classes, rotation=85)\n",
    "plt.yticks(tick_marks, classes)\n",
    "plt.xlabel(\"Predicted Class\")\n",
    "plt.ylabel(\"True Class\")\n",
    "plt.show()"
   ]
  },
  {
   "cell_type": "code",
   "execution_count": 2,
   "metadata": {},
   "outputs": [],
   "source": [
    "def predict(image_path):\n",
    "    open_image = Image.open(image_path)\n",
    "    resized = open_image.resize((128,128))\n",
    "    resized_arr = np.array(resized)\n",
    "    own_test_image = np.array([resized_arr])\n",
    "    pred = model.predict(own_test_image)\n",
    "    class_name = classes[np.argmax(pred)]\n",
    "    print(10*\" \",class_name)\n",
    "    plt.imshow(resized_arr)\n",
    "    plt.show()"
   ]
  },
  {
   "cell_type": "code",
   "execution_count": null,
   "metadata": {},
   "outputs": [],
   "source": []
  }
 ],
 "metadata": {
  "kernelspec": {
   "display_name": "Python 3.6.8 64-bit",
   "language": "python",
   "name": "python36864bit088be4c768cf41fa8694b7cea63c2a1b"
  },
  "language_info": {
   "codemirror_mode": {
    "name": "ipython",
    "version": 3
   },
   "file_extension": ".py",
   "mimetype": "text/x-python",
   "name": "python",
   "nbconvert_exporter": "python",
   "pygments_lexer": "ipython3",
   "version": "3.6.8-final"
  }
 },
 "nbformat": 4,
 "nbformat_minor": 4
}