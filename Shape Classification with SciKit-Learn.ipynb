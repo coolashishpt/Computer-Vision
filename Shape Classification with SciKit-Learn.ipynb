{
 "cells": [
  {
   "cell_type": "code",
   "execution_count": 239,
   "metadata": {},
   "outputs": [
    {
     "data": {
      "text/plain": [
       "['circle', 'square', 'triangle']"
      ]
     },
     "execution_count": 239,
     "metadata": {},
     "output_type": "execute_result"
    }
   ],
   "source": [
    "import os\n",
    "import numpy as np\n",
    "training_path = 'data/shapes/training'\n",
    "classes = os.listdir(training_path)\n",
    "classes"
   ]
  },
  {
   "cell_type": "code",
   "execution_count": 240,
   "metadata": {},
   "outputs": [],
   "source": [
    "def load_images(path):\n",
    "    import os\n",
    "    import numpy as np\n",
    "    import matplotlib.pyplot as plt\n",
    "    \n",
    "    feature = list()\n",
    "    feature_label = list()\n",
    "    Images = list()\n",
    "    \n",
    "    classes = os.listdir(path)\n",
    "    for class_name in classes:\n",
    "        print(f\"Reading from {class_name}...\")\n",
    "        \n",
    "        class_path = path+\"/\"+class_name\n",
    "        images_path = os.listdir(class_path)\n",
    "        \n",
    "        for image in images_path:\n",
    "            images = class_path+\"/\"+image\n",
    "            img = plt.imread(images)\n",
    "            feature.append(img.ravel())\n",
    "            Images.append(img)\n",
    "            feature_label.append(class_name)\n",
    "            \n",
    "    return np.array(Images), np.array(feature), np.array(feature_label)\n",
    "# load_images(training_path)"
   ]
  },
  {
   "cell_type": "code",
   "execution_count": 241,
   "metadata": {},
   "outputs": [
    {
     "name": "stdout",
     "output_type": "stream",
     "text": [
      "Reading from circle...\n",
      "Reading from square...\n",
      "Reading from triangle...\n"
     ]
    }
   ],
   "source": [
    "images, feature, label = load_images(training_path)"
   ]
  },
  {
   "cell_type": "code",
   "execution_count": 242,
   "metadata": {},
   "outputs": [
    {
     "name": "stdout",
     "output_type": "stream",
     "text": [
      "(1200, 128, 128, 3)\n",
      "(1200, 49152)\n",
      "(1200,)\n"
     ]
    }
   ],
   "source": [
    "print(images.shape)\n",
    "print(feature.shape)\n",
    "print(label.shape)"
   ]
  },
  {
   "cell_type": "code",
   "execution_count": 243,
   "metadata": {},
   "outputs": [
    {
     "name": "stdout",
     "output_type": "stream",
     "text": [
      "circle\n"
     ]
    },
    {
     "data": {
      "image/png": "[encoded data removed]",
      "text/plain": [
       "<Figure size 432x288 with 1 Axes>"
      ]
     },
     "metadata": {
      "needs_background": "light"
     },
     "output_type": "display_data"
    }
   ],
   "source": [
    "def image_with_label(indx):\n",
    "    import matplotlib.pyplot as plt\n",
    "    print(label[indx])\n",
    "    plt.imshow(images[indx])\n",
    "    plt.show()\n",
    "    \n",
    "\n",
    "image_with_label(67)"
   ]
  },
  {
   "cell_type": "code",
   "execution_count": 244,
   "metadata": {},
   "outputs": [],
   "source": [
    "y_label = []\n",
    "for i in label:\n",
    "    if classes[0] == i:\n",
    "        y_label.append(0)\n",
    "    elif classes[1] == i:\n",
    "        y_label.append(1)\n",
    "    else:\n",
    "        y_label.append(2)\n",
    "\n",
    "Y_label = np.array(y_label)"
   ]
  },
  {
   "cell_type": "code",
   "execution_count": 245,
   "metadata": {},
   "outputs": [
    {
     "name": "stdout",
     "output_type": "stream",
     "text": [
      "(900, 49152)\n",
      "(300, 49152)\n",
      "(900,)\n",
      "(300,)\n"
     ]
    }
   ],
   "source": [
    "from sklearn.model_selection import train_test_split\n",
    "\n",
    "x_train, x_test, y_train, y_test = train_test_split(feature, Y_label, random_state=0)\n",
    "print(x_train.shape)\n",
    "print(x_test.shape)\n",
    "print(y_train.shape)\n",
    "print(y_test.shape)"
   ]
  },
  {
   "cell_type": "code",
   "execution_count": 246,
   "metadata": {},
   "outputs": [
    {
     "name": "stdout",
     "output_type": "stream",
     "text": [
      "Model Training...\n",
      "Classifier Trained !\n"
     ]
    }
   ],
   "source": [
    "from sklearn.pipeline import Pipeline\n",
    "from sklearn.preprocessing import MinMaxScaler\n",
    "from sklearn.tree import DecisionTreeClassifier\n",
    "\n",
    "X_train = x_train.astype(\"float64\")\n",
    "\n",
    "image_pipline = Pipeline([(\"Norm\", MinMaxScaler()),\n",
    "                            (\"Classify\", DecisionTreeClassifier())])\n",
    "\n",
    "print(\"Model Training...\")\n",
    "clf = image_pipline.fit(X_train, y_train)\n",
    "print(\"Classifier Trained !\")"
   ]
  },
  {
   "cell_type": "code",
   "execution_count": 247,
   "metadata": {},
   "outputs": [
    {
     "name": "stdout",
     "output_type": "stream",
     "text": [
      "[[ 78   7   1]\n",
      " [ 11  97   0]\n",
      " [  0   0 106]]\n",
      "-------------\n",
      "93.66666666666667\n"
     ]
    }
   ],
   "source": [
    "from sklearn import metrics\n",
    "from sklearn.metrics import accuracy_score, confusion_matrix\n",
    "\n",
    "X_test = x_test.astype(\"float64\")\n",
    "\n",
    "prediction = clf.predict(X_test)\n",
    "print(metrics.confusion_matrix(y_test, prediction))\n",
    "print(\"-------------\")\n",
    "print((metrics.accuracy_score(y_test, prediction))*100)"
   ]
  },
  {
   "cell_type": "code",
   "execution_count": 248,
   "metadata": {},
   "outputs": [
    {
     "name": "stdout",
     "output_type": "stream",
     "text": [
      "\n",
      " Confusion Matrix:\n"
     ]
    },
    {
     "data": {
      "image/png": "[encoded data removed]",
      "text/plain": [
       "<Figure size 432x288 with 2 Axes>"
      ]
     },
     "metadata": {
      "needs_background": "light"
     },
     "output_type": "display_data"
    }
   ],
   "source": [
    "classnames = classes\n",
    "print(\"\\n Confusion Matrix:\")\n",
    "cm = confusion_matrix(y_test, np.round(prediction, 0))\n",
    "# Plot confusion matrix as heatmap\n",
    "plt.imshow(cm, interpolation=\"nearest\", cmap=plt.cm.Blues)\n",
    "plt.colorbar()\n",
    "tick_marks = np.arange(len(classnames))\n",
    "plt.xticks(tick_marks, classnames, rotation=85)\n",
    "plt.yticks(tick_marks, classnames)\n",
    "plt.xlabel(\"Predicted Label\")\n",
    "plt.ylabel(\"True Label\")\n",
    "plt.show()"
   ]
  },
  {
   "cell_type": "markdown",
   "metadata": {},
   "source": [
    "## Loading Testing Image"
   ]
  },
  {
   "cell_type": "code",
   "execution_count": 249,
   "metadata": {},
   "outputs": [
    {
     "name": "stdout",
     "output_type": "stream",
     "text": [
      "data/shapes/test/test_circle1.jpg\n",
      "data/shapes/test/test_circle2.jpg\n",
      "data/shapes/test/test_square1.jpg\n",
      "data/shapes/test/test_square2.jpg\n",
      "data/shapes/test/test_triangle1.jpg\n",
      "data/shapes/test/test_triangle2.jpg\n"
     ]
    }
   ],
   "source": [
    "from PIL import Image\n",
    "testing_source_file = 'data/shapes/test'\n",
    "test_image = os.listdir(testing_source_file)\n",
    "Test_image = list()\n",
    "for i in test_image:\n",
    "    test_image_path = testing_source_file+\"/\"+i\n",
    "    test_images = Image.open(test_image_path)\n",
    "    Test_image.append(test_images)\n",
    "    print(test_image_path)"
   ]
  },
  {
   "cell_type": "code",
   "execution_count": 250,
   "metadata": {},
   "outputs": [],
   "source": [
    "def resize_image(src_img, size=(128,128), bg_color=\"white\"): \n",
    "    from PIL import Image\n",
    "    \n",
    "#     src_img = Image.fromarray(src_img)\n",
    "    # rescale the image so the longest edge is the right size\n",
    "    src_img.thumbnail(size, Image.ANTIALIAS)\n",
    "    \n",
    "    # Create a new image of the right shape\n",
    "    new_image = Image.new(\"RGB\", size, bg_color)\n",
    "    \n",
    "    # Paste the rescaled image onto the new background\n",
    "    new_image.paste(src_img, (int((size[0] - src_img.size[0]) / 2), int((size[1] - src_img.size[1]) / 2)))\n",
    "  \n",
    "    # return the resized image\n",
    "    return new_image"
   ]
  },
  {
   "cell_type": "code",
   "execution_count": 251,
   "metadata": {},
   "outputs": [],
   "source": [
    "def image_testing(indx):\n",
    "#     print(len(Test_image))\n",
    "    img = Test_image[indx]\n",
    "    resized_img = np.array(resize_image(img))\n",
    "    img_shape = np.array(resized_img).shape\n",
    "#     print(img_shape)\n",
    "    flatten_img = resized_img.ravel()\n",
    "#     print(flatten_img.shape)\n",
    "    test_flatten_img = [flatten_img]\n",
    "    return test_flatten_img, img"
   ]
  },
  {
   "cell_type": "code",
   "execution_count": 261,
   "metadata": {},
   "outputs": [
    {
     "name": "stdout",
     "output_type": "stream",
     "text": [
      "[2]\n"
     ]
    },
    {
     "data": {
      "image/png": "[encoded data removed]",
      "text/plain": [
       "<PIL.JpegImagePlugin.JpegImageFile image mode=RGB size=128x128 at 0x146AAD02E48>"
      ]
     },
     "execution_count": 261,
     "metadata": {},
     "output_type": "execute_result"
    }
   ],
   "source": [
    "test_flatten_img, img = image_testing(5)\n",
    "print(clf.predict(test_flatten_img))\n",
    "img"
   ]
  },
  {
   "cell_type": "code",
   "execution_count": null,
   "metadata": {},
   "outputs": [],
   "source": []
  },
  {
   "cell_type": "code",
   "execution_count": null,
   "metadata": {},
   "outputs": [],
   "source": []
  }
 ],
 "metadata": {
  "kernelspec": {
   "display_name": "Python 3",
   "language": "python",
   "name": "python3"
  },
  "language_info": {
   "codemirror_mode": {
    "name": "ipython",
    "version": 3
   },
   "file_extension": ".py",
   "mimetype": "text/x-python",
   "name": "python",
   "nbconvert_exporter": "python",
   "pygments_lexer": "ipython3",
   "version": "3.6.8"
  }
 },
 "nbformat": 4,
 "nbformat_minor": 4
}
